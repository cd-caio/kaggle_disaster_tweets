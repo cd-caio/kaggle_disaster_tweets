{
 "cells": [
  {
   "cell_type": "code",
   "execution_count": 10,
   "id": "9448fb9a-105f-4152-9d85-497d147cdb55",
   "metadata": {},
   "outputs": [],
   "source": [
    "import pandas as pd\n",
    "import re\n",
    "from unidecode import unidecode\n",
    "import string\n",
    "from sklearn.feature_extraction.text import CountVectorizer\n",
    "from sklearn.metrics import accuracy_score\n",
    "from sklearn.model_selection import LeaveOneOut\n",
    "from sklearn.naive_bayes import GaussianNB\n",
    "from tqdm import tqdm \n",
    "from matplotlib import pyplot as plt\n",
    "\n",
    "import random\n",
    "\n",
    "random.seed(47)"
   ]
  },
  {
   "cell_type": "code",
   "execution_count": 11,
   "id": "f7278bfe-7ae3-42a5-8f39-4e0dd02c38f2",
   "metadata": {},
   "outputs": [],
   "source": [
    "df_train = pd.read_csv(\"../train.csv\", encoding=\"UTF8\")"
   ]
  },
  {
   "cell_type": "markdown",
   "id": "c9496361-e6f5-4d16-8dd9-c5504cc3983e",
   "metadata": {},
   "source": [
    "## Normalize "
   ]
  },
  {
   "cell_type": "code",
   "execution_count": 12,
   "id": "bbba6f4a-f386-46e6-998e-1a44123facac",
   "metadata": {},
   "outputs": [],
   "source": [
    "def normalize_text(text):\n",
    "    text = text.lower()\n",
    "    text = re.sub(r'http\\S+', '', text)\n",
    "    text = re.sub(r'https\\S+', '', text)\n",
    "    text = unidecode(text)\n",
    "    text = text.translate(str.maketrans(\"\", \"\", string.punctuation))\n",
    "    text = re.sub(r'\\d+', '', text)\n",
    "    return text"
   ]
  },
  {
   "cell_type": "code",
   "execution_count": 13,
   "id": "3ab47aa5-3eed-41e7-93c5-c7d7c1a33fbe",
   "metadata": {},
   "outputs": [],
   "source": [
    "df_train[\"text\"] = df_train[\"text\"].apply(normalize_text)"
   ]
  },
  {
   "cell_type": "markdown",
   "id": "3f46c4bd-38a5-42b3-9c33-fe6bd56223ef",
   "metadata": {},
   "source": [
    "## Vetorizacao"
   ]
  },
  {
   "cell_type": "code",
   "execution_count": 14,
   "id": "d63c234e-3cdc-4810-835b-9e8156ab7ff0",
   "metadata": {},
   "outputs": [],
   "source": [
    "vectorizer = CountVectorizer()\n",
    "X = vectorizer.fit_transform(df_train[\"text\"]).toarray()\n",
    "# X_test = vectorizer.fit_transform(df_test[\"text\"])\n",
    "y = df_train[\"target\"].to_numpy()"
   ]
  },
  {
   "cell_type": "markdown",
   "id": "f1e77759-744f-4f4e-8834-2958082cbff1",
   "metadata": {},
   "source": [
    "## K-Fold"
   ]
  },
  {
   "cell_type": "code",
   "execution_count": 15,
   "id": "f06c75e7-a487-4cd3-ade3-b20930f5ef87",
   "metadata": {
    "scrolled": true
   },
   "outputs": [
    {
     "name": "stdout",
     "output_type": "stream",
     "text": [
      "Numero de etapas: 2\n"
     ]
    },
    {
     "name": "stderr",
     "output_type": "stream",
     "text": [
      "2it [00:05,  2.67s/it]\n"
     ]
    },
    {
     "name": "stdout",
     "output_type": "stream",
     "text": [
      "Numero de etapas: 3\n"
     ]
    },
    {
     "name": "stderr",
     "output_type": "stream",
     "text": [
      "3it [00:06,  2.17s/it]\n"
     ]
    },
    {
     "name": "stdout",
     "output_type": "stream",
     "text": [
      "Numero de etapas: 4\n"
     ]
    },
    {
     "name": "stderr",
     "output_type": "stream",
     "text": [
      "4it [00:08,  2.16s/it]\n"
     ]
    },
    {
     "name": "stdout",
     "output_type": "stream",
     "text": [
      "Numero de etapas: 5\n"
     ]
    },
    {
     "name": "stderr",
     "output_type": "stream",
     "text": [
      "5it [00:10,  2.08s/it]\n"
     ]
    },
    {
     "name": "stdout",
     "output_type": "stream",
     "text": [
      "Numero de etapas: 6\n"
     ]
    },
    {
     "name": "stderr",
     "output_type": "stream",
     "text": [
      "6it [00:12,  2.12s/it]\n"
     ]
    },
    {
     "name": "stdout",
     "output_type": "stream",
     "text": [
      "Numero de etapas: 7\n"
     ]
    },
    {
     "name": "stderr",
     "output_type": "stream",
     "text": [
      "7it [00:14,  2.03s/it]\n"
     ]
    },
    {
     "name": "stdout",
     "output_type": "stream",
     "text": [
      "Numero de etapas: 8\n"
     ]
    },
    {
     "name": "stderr",
     "output_type": "stream",
     "text": [
      "8it [00:16,  2.00s/it]\n"
     ]
    },
    {
     "name": "stdout",
     "output_type": "stream",
     "text": [
      "Numero de etapas: 9\n"
     ]
    },
    {
     "name": "stderr",
     "output_type": "stream",
     "text": [
      "9it [00:17,  1.98s/it]\n"
     ]
    },
    {
     "name": "stdout",
     "output_type": "stream",
     "text": [
      "Numero de etapas: 10\n"
     ]
    },
    {
     "name": "stderr",
     "output_type": "stream",
     "text": [
      "10it [00:19,  1.98s/it]\n"
     ]
    },
    {
     "name": "stdout",
     "output_type": "stream",
     "text": [
      "Numero de etapas: 11\n"
     ]
    },
    {
     "name": "stderr",
     "output_type": "stream",
     "text": [
      "11it [00:21,  1.99s/it]\n"
     ]
    },
    {
     "name": "stdout",
     "output_type": "stream",
     "text": [
      "Numero de etapas: 12\n"
     ]
    },
    {
     "name": "stderr",
     "output_type": "stream",
     "text": [
      "12it [00:23,  1.97s/it]\n"
     ]
    },
    {
     "name": "stdout",
     "output_type": "stream",
     "text": [
      "Numero de etapas: 13\n"
     ]
    },
    {
     "name": "stderr",
     "output_type": "stream",
     "text": [
      "13it [00:27,  2.10s/it]\n"
     ]
    },
    {
     "name": "stdout",
     "output_type": "stream",
     "text": [
      "Numero de etapas: 14\n"
     ]
    },
    {
     "name": "stderr",
     "output_type": "stream",
     "text": [
      "14it [00:28,  2.01s/it]\n"
     ]
    },
    {
     "name": "stdout",
     "output_type": "stream",
     "text": [
      "Numero de etapas: 15\n"
     ]
    },
    {
     "name": "stderr",
     "output_type": "stream",
     "text": [
      "15it [00:30,  2.03s/it]\n"
     ]
    },
    {
     "name": "stdout",
     "output_type": "stream",
     "text": [
      "Numero de etapas: 16\n"
     ]
    },
    {
     "name": "stderr",
     "output_type": "stream",
     "text": [
      "16it [00:32,  2.05s/it]\n"
     ]
    },
    {
     "name": "stdout",
     "output_type": "stream",
     "text": [
      "Numero de etapas: 17\n"
     ]
    },
    {
     "name": "stderr",
     "output_type": "stream",
     "text": [
      "17it [00:34,  2.06s/it]\n"
     ]
    },
    {
     "name": "stdout",
     "output_type": "stream",
     "text": [
      "Numero de etapas: 18\n"
     ]
    },
    {
     "name": "stderr",
     "output_type": "stream",
     "text": [
      "18it [00:36,  2.04s/it]\n"
     ]
    },
    {
     "name": "stdout",
     "output_type": "stream",
     "text": [
      "Numero de etapas: 19\n"
     ]
    },
    {
     "name": "stderr",
     "output_type": "stream",
     "text": [
      "19it [00:37,  2.00s/it]\n"
     ]
    }
   ],
   "source": [
    "from sklearn.model_selection import KFold\n",
    "\n",
    "accuracies = list()\n",
    "\n",
    "for j in range(2,20):\n",
    "    kf = KFold(n_splits=j)\n",
    "    n = kf.get_n_splits(X)\n",
    "    accuracy = 0\n",
    "    \n",
    "    print(f\"Numero de etapas: {n}\")\n",
    "    for i, (train_index, test_index) in tqdm(enumerate(kf.split(X))):\n",
    "        nb = GaussianNB()\n",
    "        nb.fit(X[train_index], y[train_index])\n",
    "        accuracy += accuracy_score(y[test_index], nb.predict(X[test_index]))\n",
    "\n",
    "    accuracies.append((accuracy/n,j))"
   ]
  },
  {
   "cell_type": "code",
   "execution_count": 17,
   "id": "b7a791cb-1167-4066-b691-3b68ce933132",
   "metadata": {},
   "outputs": [
    {
     "data": {
      "text/plain": [
       "[(0.5972686870895374, 2),\n",
       " (0.5874185770067151, 3),\n",
       " (0.59109731648834, 4),\n",
       " (0.5925425559726765, 5),\n",
       " (0.5933314150672139, 6),\n",
       " (0.588077175442394, 7),\n",
       " (0.5889993615742827, 8),\n",
       " (0.5966141474052004, 9),\n",
       " (0.5916255376093756, 10),\n",
       " (0.5843951109321577, 11),\n",
       " (0.5943853134288813, 12),\n",
       " (0.5901874328232952, 13),\n",
       " (0.5882070024142253, 14),\n",
       " (0.5950493614333712, 15),\n",
       " (0.590579666076957, 16),\n",
       " (0.5938645592465175, 17),\n",
       " (0.5938595901538322, 18),\n",
       " (0.5907192544953406, 19)]"
      ]
     },
     "execution_count": 17,
     "metadata": {},
     "output_type": "execute_result"
    }
   ],
   "source": [
    "accuracies"
   ]
  },
  {
   "cell_type": "code",
   "execution_count": 21,
   "id": "241b7491-59f4-44a6-9ad4-73806831f704",
   "metadata": {},
   "outputs": [],
   "source": [
    "accuracies_true = [i[0] for i in accuracies]\n",
    "ks = [i[1] for i in accuracies]"
   ]
  },
  {
   "cell_type": "code",
   "execution_count": 22,
   "id": "203d6df8-1bcb-4d2a-9418-ba44dad34bf7",
   "metadata": {},
   "outputs": [
    {
     "data": {
      "image/png": "[encoded data removed]",
      "text/plain": [
       "<Figure size 640x480 with 1 Axes>"
      ]
     },
     "metadata": {},
     "output_type": "display_data"
    }
   ],
   "source": [
    "\n",
    "plt.plot(ks, accuracies_true)\n",
    "plt.show()"
   ]
  }
 ],
 "metadata": {
  "kernelspec": {
   "display_name": "Python 3 (ipykernel)",
   "language": "python",
   "name": "python3"
  },
  "language_info": {
   "codemirror_mode": {
    "name": "ipython",
    "version": 3
   },
   "file_extension": ".py",
   "mimetype": "text/x-python",
   "name": "python",
   "nbconvert_exporter": "python",
   "pygments_lexer": "ipython3",
   "version": "3.11.3"
  }
 },
 "nbformat": 4,
 "nbformat_minor": 5
}
