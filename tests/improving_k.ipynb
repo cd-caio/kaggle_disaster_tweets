{
 "cells": [
  {
   "cell_type": "code",
   "execution_count": 15,
   "id": "9448fb9a-105f-4152-9d85-497d147cdb55",
   "metadata": {},
   "outputs": [],
   "source": [
    "import pandas as pd\n",
    "import re\n",
    "from unidecode import unidecode\n",
    "import string\n",
    "from sklearn.feature_extraction.text import CountVectorizer\n",
    "from sklearn.metrics import accuracy_score, precision_score, recall_score, f1_score\n",
    "from sklearn.model_selection import LeaveOneOut\n",
    "from sklearn.naive_bayes import GaussianNB\n",
    "from tqdm import tqdm \n",
    "from matplotlib import pyplot as plt\n",
    "\n",
    "import random\n",
    "\n",
    "random.seed(47)"
   ]
  },
  {
   "cell_type": "code",
   "execution_count": 16,
   "id": "f7278bfe-7ae3-42a5-8f39-4e0dd02c38f2",
   "metadata": {},
   "outputs": [],
   "source": [
    "df_train = pd.read_csv(\"../train.csv\", encoding=\"UTF8\")"
   ]
  },
  {
   "cell_type": "markdown",
   "id": "c9496361-e6f5-4d16-8dd9-c5504cc3983e",
   "metadata": {},
   "source": [
    "## Normalize "
   ]
  },
  {
   "cell_type": "code",
   "execution_count": 17,
   "id": "bbba6f4a-f386-46e6-998e-1a44123facac",
   "metadata": {},
   "outputs": [],
   "source": [
    "def normalize_text(text):\n",
    "    text = text.lower()\n",
    "    text = re.sub(r'http\\S+', '', text)\n",
    "    text = re.sub(r'https\\S+', '', text)\n",
    "    text = unidecode(text)\n",
    "    text = text.translate(str.maketrans(\"\", \"\", string.punctuation))\n",
    "    text = re.sub(r'\\d+', '', text)\n",
    "    return text"
   ]
  },
  {
   "cell_type": "code",
   "execution_count": 18,
   "id": "3ab47aa5-3eed-41e7-93c5-c7d7c1a33fbe",
   "metadata": {},
   "outputs": [],
   "source": [
    "df_train[\"text\"] = df_train[\"text\"].apply(normalize_text)"
   ]
  },
  {
   "cell_type": "markdown",
   "id": "3f46c4bd-38a5-42b3-9c33-fe6bd56223ef",
   "metadata": {},
   "source": [
    "## Vetorizacao"
   ]
  },
  {
   "cell_type": "code",
   "execution_count": 19,
   "id": "d63c234e-3cdc-4810-835b-9e8156ab7ff0",
   "metadata": {},
   "outputs": [],
   "source": [
    "vectorizer = CountVectorizer()\n",
    "X = vectorizer.fit_transform(df_train[\"text\"]).toarray()\n",
    "# X_test = vectorizer.fit_transform(df_test[\"text\"])\n",
    "y = df_train[\"target\"].to_numpy()"
   ]
  },
  {
   "cell_type": "markdown",
   "id": "f1e77759-744f-4f4e-8834-2958082cbff1",
   "metadata": {},
   "source": [
    "## K-Fold"
   ]
  },
  {
   "cell_type": "code",
   "execution_count": 20,
   "id": "f06c75e7-a487-4cd3-ade3-b20930f5ef87",
   "metadata": {
    "scrolled": true
   },
   "outputs": [
    {
     "name": "stdout",
     "output_type": "stream",
     "text": [
      "Numero de etapas: 2\n"
     ]
    },
    {
     "name": "stderr",
     "output_type": "stream",
     "text": [
      "2it [00:13,  6.95s/it]\n"
     ]
    },
    {
     "name": "stdout",
     "output_type": "stream",
     "text": [
      "Numero de etapas: 3\n"
     ]
    },
    {
     "name": "stderr",
     "output_type": "stream",
     "text": [
      "3it [00:16,  5.47s/it]\n"
     ]
    },
    {
     "name": "stdout",
     "output_type": "stream",
     "text": [
      "Numero de etapas: 4\n"
     ]
    },
    {
     "name": "stderr",
     "output_type": "stream",
     "text": [
      "4it [00:18,  4.52s/it]\n"
     ]
    },
    {
     "name": "stdout",
     "output_type": "stream",
     "text": [
      "Numero de etapas: 5\n"
     ]
    },
    {
     "name": "stderr",
     "output_type": "stream",
     "text": [
      "5it [00:20,  4.14s/it]\n"
     ]
    },
    {
     "name": "stdout",
     "output_type": "stream",
     "text": [
      "Numero de etapas: 6\n"
     ]
    },
    {
     "name": "stderr",
     "output_type": "stream",
     "text": [
      "6it [00:22,  3.80s/it]\n"
     ]
    },
    {
     "name": "stdout",
     "output_type": "stream",
     "text": [
      "Numero de etapas: 7\n"
     ]
    },
    {
     "name": "stderr",
     "output_type": "stream",
     "text": [
      "7it [00:25,  3.58s/it]\n"
     ]
    },
    {
     "name": "stdout",
     "output_type": "stream",
     "text": [
      "Numero de etapas: 8\n"
     ]
    },
    {
     "name": "stderr",
     "output_type": "stream",
     "text": [
      "8it [00:27,  3.40s/it]\n"
     ]
    },
    {
     "name": "stdout",
     "output_type": "stream",
     "text": [
      "Numero de etapas: 9\n"
     ]
    },
    {
     "name": "stderr",
     "output_type": "stream",
     "text": [
      "9it [00:28,  3.20s/it]\n"
     ]
    },
    {
     "name": "stdout",
     "output_type": "stream",
     "text": [
      "Numero de etapas: 10\n"
     ]
    },
    {
     "name": "stderr",
     "output_type": "stream",
     "text": [
      "10it [00:31,  3.14s/it]\n"
     ]
    },
    {
     "name": "stdout",
     "output_type": "stream",
     "text": [
      "Numero de etapas: 11\n"
     ]
    },
    {
     "name": "stderr",
     "output_type": "stream",
     "text": [
      "11it [00:33,  3.03s/it]\n"
     ]
    },
    {
     "name": "stdout",
     "output_type": "stream",
     "text": [
      "Numero de etapas: 12\n"
     ]
    },
    {
     "name": "stderr",
     "output_type": "stream",
     "text": [
      "12it [00:36,  3.03s/it]\n"
     ]
    },
    {
     "name": "stdout",
     "output_type": "stream",
     "text": [
      "Numero de etapas: 13\n"
     ]
    },
    {
     "name": "stderr",
     "output_type": "stream",
     "text": [
      "13it [00:38,  2.95s/it]\n"
     ]
    },
    {
     "name": "stdout",
     "output_type": "stream",
     "text": [
      "Numero de etapas: 14\n"
     ]
    },
    {
     "name": "stderr",
     "output_type": "stream",
     "text": [
      "14it [00:40,  2.89s/it]\n"
     ]
    },
    {
     "name": "stdout",
     "output_type": "stream",
     "text": [
      "Numero de etapas: 15\n"
     ]
    },
    {
     "name": "stderr",
     "output_type": "stream",
     "text": [
      "15it [00:42,  2.86s/it]\n"
     ]
    },
    {
     "name": "stdout",
     "output_type": "stream",
     "text": [
      "Numero de etapas: 16\n"
     ]
    },
    {
     "name": "stderr",
     "output_type": "stream",
     "text": [
      "16it [00:45,  2.83s/it]\n"
     ]
    },
    {
     "name": "stdout",
     "output_type": "stream",
     "text": [
      "Numero de etapas: 17\n"
     ]
    },
    {
     "name": "stderr",
     "output_type": "stream",
     "text": [
      "17it [00:48,  2.83s/it]\n"
     ]
    },
    {
     "name": "stdout",
     "output_type": "stream",
     "text": [
      "Numero de etapas: 18\n"
     ]
    },
    {
     "name": "stderr",
     "output_type": "stream",
     "text": [
      "18it [00:49,  2.75s/it]\n"
     ]
    },
    {
     "name": "stdout",
     "output_type": "stream",
     "text": [
      "Numero de etapas: 19\n"
     ]
    },
    {
     "name": "stderr",
     "output_type": "stream",
     "text": [
      "19it [00:51,  2.72s/it]\n"
     ]
    }
   ],
   "source": [
    "from sklearn.model_selection import KFold\n",
    "\n",
    "metrics_list = list()\n",
    "\n",
    "for j in range(2,20):\n",
    "\n",
    "    kf = KFold(n_splits=j)\n",
    "    n = kf.get_n_splits(X)\n",
    "    \n",
    "    accuracy = 0\n",
    "    precision = 0\n",
    "    recall = 0\n",
    "    f1 = 0\n",
    "    \n",
    "    print(f\"Numero de etapas: {n}\")\n",
    "    for i, (train_index, test_index) in tqdm(enumerate(kf.split(X))):\n",
    "        nb = GaussianNB()\n",
    "        nb.fit(X[train_index], y[train_index])\n",
    "        accuracy += accuracy_score(y[test_index], nb.predict(X[test_index]))\n",
    "        precision += precision_score(y[test_index], nb.predict(X[test_index]))\n",
    "        recall += recall_score(y[test_index], nb.predict(X[test_index]))\n",
    "        f1 += f1_score(y[test_index], nb.predict(X[test_index]))\n",
    "    \n",
    "    metrics = {\n",
    "        \"accuracy\": round(accuracy/n, 4),\n",
    "        \"precision\": round(precision/n, 4),\n",
    "        \"recall\": round(recall/n, 4), \n",
    "        \"f1\": round(f1/n, 4)\n",
    "    }\n",
    "    \n",
    "    metrics_list.append((metrics, j))"
   ]
  },
  {
   "cell_type": "code",
   "execution_count": 21,
   "id": "241b7491-59f4-44a6-9ad4-73806831f704",
   "metadata": {},
   "outputs": [],
   "source": [
    "metrics_true = [i[0] for i in metrics_list]\n",
    "ks = [i[1] for i in metrics_list]"
   ]
  },
  {
   "cell_type": "code",
   "execution_count": 22,
   "id": "901b7895-ed1c-42a0-8144-b6f4ad6e8c34",
   "metadata": {},
   "outputs": [],
   "source": [
    "accuracies = [i[\"accuracy\"] for i in metrics_true]\n",
    "recalls = [i[\"recall\"] for i in metrics_true]\n",
    "f1s = [i[\"f1\"] for i in metrics_true]\n",
    "precisions = [i[\"precision\"] for i in metrics_true]"
   ]
  },
  {
   "cell_type": "code",
   "execution_count": 25,
   "id": "203d6df8-1bcb-4d2a-9418-ba44dad34bf7",
   "metadata": {},
   "outputs": [
    {
     "data": {
      "image/png": "[encoded data removed]",
      "text/plain": [
       "<Figure size 640x480 with 1 Axes>"
      ]
     },
     "metadata": {},
     "output_type": "display_data"
    }
   ],
   "source": [
    "plt.plot(ks, accuracies, label = \"accuracy\", color=\"orange\")\n",
    "plt.plot(ks, recalls, label = \"recall\", color=\"blue\")\n",
    "plt.plot(ks, f1s, label = \"f1\", color=\"green\")\n",
    "plt.plot(ks, precisions, label = \"precision\", color=\"red\")\n",
    "plt.show()"
   ]
  }
 ],
 "metadata": {
  "kernelspec": {
   "display_name": "Python 3 (ipykernel)",
   "language": "python",
   "name": "python3"
  },
  "language_info": {
   "codemirror_mode": {
    "name": "ipython",
    "version": 3
   },
   "file_extension": ".py",
   "mimetype": "text/x-python",
   "name": "python",
   "nbconvert_exporter": "python",
   "pygments_lexer": "ipython3",
   "version": "3.11.2"
  }
 },
 "nbformat": 4,
 "nbformat_minor": 5
}
