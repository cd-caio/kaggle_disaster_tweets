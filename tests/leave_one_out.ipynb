{
 "cells": [
  {
   "cell_type": "code",
   "execution_count": 1,
   "id": "0d38a973-1fde-45fc-9e19-0a77a36a371a",
   "metadata": {},
   "outputs": [],
   "source": [
    "import pandas as pd\n",
    "import re\n",
    "from unidecode import unidecode\n",
    "import string\n",
    "from sklearn.feature_extraction.text import CountVectorizer\n",
    "from sklearn.metrics import accuracy_score, precision_score, recall_score, f1_score\n",
    "from sklearn.model_selection import LeaveOneOut\n",
    "from sklearn.naive_bayes import GaussianNB\n",
    "from tqdm import tqdm \n",
    "\n",
    "import random\n",
    "\n",
    "random.seed(47)"
   ]
  },
  {
   "cell_type": "code",
   "execution_count": 2,
   "id": "407bedb5-24ea-442b-b0a4-842e1df3c37e",
   "metadata": {},
   "outputs": [],
   "source": [
    "df_train = pd.read_csv(\"../train.csv\", encoding=\"UTF8\")"
   ]
  },
  {
   "cell_type": "markdown",
   "id": "0c1da607-b2ac-40d6-b7d4-3ae86597e961",
   "metadata": {},
   "source": [
    "# Normalize"
   ]
  },
  {
   "cell_type": "code",
   "execution_count": 3,
   "id": "1cc626cd-c6e2-458b-9a1f-93f90fd8a50f",
   "metadata": {},
   "outputs": [],
   "source": [
    "def normalize_text(text):\n",
    "    text = text.lower()\n",
    "    text = re.sub(r'http\\S+', '', text)\n",
    "    text = re.sub(r'https\\S+', '', text)\n",
    "    text = unidecode(text)\n",
    "    text = text.translate(str.maketrans(\"\", \"\", string.punctuation))\n",
    "    text = re.sub(r'\\d+', '', text)\n",
    "    return text"
   ]
  },
  {
   "cell_type": "markdown",
   "id": "d5aff828-8998-4b2f-b2ab-52d3a930e4a7",
   "metadata": {},
   "source": [
    "## Vetorizacao"
   ]
  },
  {
   "cell_type": "code",
   "execution_count": 4,
   "id": "04ffc3e6-c6ee-447d-8f34-ea19d4cde992",
   "metadata": {},
   "outputs": [],
   "source": [
    "vectorizer = CountVectorizer()\n",
    "X = vectorizer.fit_transform(df_train[\"text\"]).toarray()\n",
    "# X_test = vectorizer.fit_transform(df_test[\"text\"])\n",
    "y = df_train[\"target\"].to_numpy()"
   ]
  },
  {
   "cell_type": "markdown",
   "id": "e2912f93-6d08-4763-bbb5-12848f8eafe7",
   "metadata": {},
   "source": [
    "## Leave One Out"
   ]
  },
  {
   "cell_type": "code",
   "execution_count": 5,
   "id": "b6af98c3-664e-4a21-b293-97415a11c342",
   "metadata": {},
   "outputs": [],
   "source": [
    "import warnings\n",
    "warnings.filterwarnings('ignore')"
   ]
  },
  {
   "cell_type": "code",
   "execution_count": 6,
   "id": "096c1c62-e105-4a29-87d2-b8f48ab09643",
   "metadata": {},
   "outputs": [
    {
     "name": "stdout",
     "output_type": "stream",
     "text": [
      "Numero de etapas: 7613\n"
     ]
    },
    {
     "name": "stderr",
     "output_type": "stream",
     "text": [
      "7613it [4:28:20,  2.11s/it]\n"
     ]
    },
    {
     "data": {
      "text/plain": [
       "{'accuracy': 0.6060685669249967,\n",
       " 'precision': 0.343360042033364,\n",
       " 'recall': 0.343360042033364,\n",
       " 'f1': 0.343360042033364}"
      ]
     },
     "execution_count": 6,
     "metadata": {},
     "output_type": "execute_result"
    }
   ],
   "source": [
    "loo = LeaveOneOut()\n",
    "n = loo.get_n_splits(X)\n",
    "\n",
    "accuracy = 0\n",
    "precision = 0\n",
    "recall = 0\n",
    "f1 = 0\n",
    "\n",
    "print(f\"Numero de etapas: {n}\")\n",
    "for i, (train_index, test_index) in tqdm(enumerate(loo.split(X))):\n",
    "    nb = GaussianNB()\n",
    "    nb.fit(X[train_index], y[train_index])\n",
    "    accuracy += accuracy_score(y[test_index], nb.predict(X[test_index]))\n",
    "    precision += precision_score(y[test_index], nb.predict(X[test_index]))\n",
    "    recall += recall_score(y[test_index], nb.predict(X[test_index]))\n",
    "    f1 += f1_score(y[test_index], nb.predict(X[test_index]))\n",
    "\n",
    "metrics = {\n",
    "    \"accuracy\": accuracy/n,\n",
    "    \"precision\":precision/n,\n",
    "    \"recall\": recall/n, \n",
    "    \"f1\": f1/n\n",
    "}\n",
    "\n",
    "metrics"
   ]
  },
  {
   "cell_type": "code",
   "execution_count": null,
   "id": "488253ab-0379-4b6b-9760-b4ec6009261c",
   "metadata": {},
   "outputs": [],
   "source": []
  }
 ],
 "metadata": {
  "kernelspec": {
   "display_name": "Python 3 (ipykernel)",
   "language": "python",
   "name": "python3"
  },
  "language_info": {
   "codemirror_mode": {
    "name": "ipython",
    "version": 3
   },
   "file_extension": ".py",
   "mimetype": "text/x-python",
   "name": "python",
   "nbconvert_exporter": "python",
   "pygments_lexer": "ipython3",
   "version": "3.11.2"
  }
 },
 "nbformat": 4,
 "nbformat_minor": 5
}
