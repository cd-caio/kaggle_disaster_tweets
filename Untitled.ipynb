{
 "cells": [
  {
   "cell_type": "code",
   "execution_count": 1,
   "id": "fa0534e3-8c5d-46d0-9fb4-5cdaf63e75ee",
   "metadata": {},
   "outputs": [],
   "source": [
    "import pandas as pd"
   ]
  },
  {
   "cell_type": "code",
   "execution_count": 15,
   "id": "e4ca2b30-24b4-40f7-9878-a35f27523d43",
   "metadata": {},
   "outputs": [],
   "source": [
    "df_train = pd.read_csv(\"./train.csv\", encoding=\"UTF8\")"
   ]
  },
  {
   "cell_type": "code",
   "execution_count": 16,
   "id": "c9f0a6d4-f511-41d6-9675-fbcb43e17ba0",
   "metadata": {},
   "outputs": [
    {
     "data": {
      "text/plain": [
       "Index(['id', 'keyword', 'location', 'text', 'target'], dtype='object')"
      ]
     },
     "execution_count": 16,
     "metadata": {},
     "output_type": "execute_result"
    }
   ],
   "source": [
    "df_train.columns"
   ]
  },
  {
   "cell_type": "code",
   "execution_count": 17,
   "id": "7c4ff755-b436-4bd8-a6d0-2ea2881e630b",
   "metadata": {},
   "outputs": [
    {
     "data": {
      "text/plain": [
       "('HAPPY 24 TWISTER!!! Thank you for all the laughs sticking by my side no matter what and also for\\x89Û_ https://t.co/ttq9IlHp8W',\n",
       " 0)"
      ]
     },
     "execution_count": 17,
     "metadata": {},
     "output_type": "execute_result"
    }
   ],
   "source": [
    "df_train[\"text\"][7000], df_train[\"target\"][7000]"
   ]
  },
  {
   "cell_type": "code",
   "execution_count": null,
   "id": "b1888fc5-906e-4c52-b661-7d2fa212b4ce",
   "metadata": {},
   "outputs": [],
   "source": []
  }
 ],
 "metadata": {
  "kernelspec": {
   "display_name": "Python 3 (ipykernel)",
   "language": "python",
   "name": "python3"
  },
  "language_info": {
   "codemirror_mode": {
    "name": "ipython",
    "version": 3
   },
   "file_extension": ".py",
   "mimetype": "text/x-python",
   "name": "python",
   "nbconvert_exporter": "python",
   "pygments_lexer": "ipython3",
   "version": "3.11.3"
  }
 },
 "nbformat": 4,
 "nbformat_minor": 5
}
